{
 "cells": [
  {
   "cell_type": "code",
   "execution_count": 1,
   "id": "27e50d24",
   "metadata": {},
   "outputs": [
    {
     "data": {
      "text/plain": [
       "'Open 9-5 daily'"
      ]
     },
     "execution_count": 1,
     "metadata": {},
     "output_type": "execute_result"
    }
   ],
   "source": [
    "#11.1\n",
    "\n",
    "import zoo\n",
    "zoo.hours()"
   ]
  },
  {
   "cell_type": "code",
   "execution_count": 2,
   "id": "a1791495",
   "metadata": {},
   "outputs": [
    {
     "data": {
      "text/plain": [
       "'Open 9-5 daily'"
      ]
     },
     "execution_count": 2,
     "metadata": {},
     "output_type": "execute_result"
    }
   ],
   "source": [
    "#11.2\n",
    "\n",
    "import zoo as menagerie\n",
    "menagerie.hours()"
   ]
  },
  {
   "cell_type": "code",
   "execution_count": 12,
   "id": "5c3f50e1",
   "metadata": {
    "scrolled": true
   },
   "outputs": [
    {
     "name": "stdout",
     "output_type": "stream",
     "text": [
      "<sqlite3.Cursor object at 0x000002126853E640>\n"
     ]
    }
   ],
   "source": [
    "import sqlite3\n",
    "conn = sqlite3.connect(\"books.db\")\n",
    "curs = conn.cursor()\n",
    "curs.execute(\"CREATE TABLE books (title, author, year)\")\n",
    "curs.execute(\"\"\"INSERT INTO books VALUES (\"The Weirdstone of Brisingamen\", \"Alan Garner\", 1960), \n",
    "(\"Perdido Street Station\", \"China Mieville\", 2000), (\"Thud!\", \"Terry PRatchett\", 2005),\n",
    "(\"The Spellman Files\", \"Lisa Lutz\", 2007), (\"Small Gods\", \"Terry Pratchett\", 1992)\"\"\")\n",
    "print(curs)"
   ]
  },
  {
   "cell_type": "code",
   "execution_count": 5,
   "id": "febccd7b",
   "metadata": {},
   "outputs": [
    {
     "name": "stdout",
     "output_type": "stream",
     "text": [
      "('Perdido Street Station',)\n",
      "('Small Gods',)\n",
      "('The Spellman Files',)\n",
      "('The Weirdstone of Brisingamen',)\n",
      "('Thud!',)\n"
     ]
    }
   ],
   "source": [
    "import sqlalchemy as sa\n",
    "conn = sa.create_engine(\"sqlite:///books.db\")\n",
    "ttl = conn.execute(\"SELECT title FROM books ORDER BY title\")\n",
    "for row in ttl:\n",
    "    print(row)"
   ]
  }
 ],
 "metadata": {
  "kernelspec": {
   "display_name": "Python 3 (ipykernel)",
   "language": "python",
   "name": "python3"
  },
  "language_info": {
   "codemirror_mode": {
    "name": "ipython",
    "version": 3
   },
   "file_extension": ".py",
   "mimetype": "text/x-python",
   "name": "python",
   "nbconvert_exporter": "python",
   "pygments_lexer": "ipython3",
   "version": "3.10.9"
  }
 },
 "nbformat": 4,
 "nbformat_minor": 5
}
